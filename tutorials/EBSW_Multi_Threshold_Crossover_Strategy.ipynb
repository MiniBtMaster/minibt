{
 "cells": [
  {
   "cell_type": "code",
   "execution_count": null,
   "metadata": {},
   "outputs": [],
   "source": [
    "from minibt import *\n",
    "from minibt.tradingview import *\n",
    "\n",
    "\n",
    "class owen(Strategy):\n",
    "    params = dict(l1=.6, l2=.95, l3=.65, symbol=\"v2509_60_3\")\n",
    "\n",
    "    def __init__(self):\n",
    "        self.min_start_length = 300\n",
    "        self.data = self.get_data(\n",
    "            LocalDatas.get(self.params.symbol), height=300)\n",
    "        self.gc = G_Channels(self.data, cycle=1)\n",
    "        self.gc.zig.line_dash = LineDash.dotdash\n",
    "        self.gc.zig.line_width = 3\n",
    "        self.gc.zig.line_color = Colors.blue\n",
    "        self.ebsw = self.data.close.ebsw()\n",
    "        self.macd = self.data.close.macd()\n",
    "        self.adosc = self.data.close.ao()\n",
    "        self.btindicatordataset.height=50\n",
    "        self.buy_signal = self.ebsw.cross_up(self.params.l1)\n",
    "        self.exit_buy_signal = self.ebsw.cross_up(\n",
    "            self.params.l2) | self.ebsw.cross_down(self.params.l3)\n",
    "        self.sell_signal=self.ebsw.cross_down(-self.params.l1)\n",
    "        self.exit_sell_signal = self.ebsw.cross_down(\n",
    "            -self.params.l2) | self.ebsw.cross_up(-self.params.l3)\n",
    "        self.buy_signal.isplot=self.exit_buy_signal.isplot=self.sell_signal.isplot=self.exit_sell_signal.isplot=False\n",
    "\n",
    "    def next(self):\n",
    "        if not self.data.position:\n",
    "            if self.buy_signal.new:\n",
    "                self.data.buy()\n",
    "            elif self.sell_signal.new:\n",
    "                self.data.sell()\n",
    "        elif self.data.position > 0 and self.exit_buy_signal.new:\n",
    "            self.data.sell()\n",
    "        elif self.data.position<0 and self.exit_sell_signal.new:\n",
    "            self.data.buy()\n",
    "\n",
    "\n",
    "\n",
    "\n",
    "if __name__ == \"__main__\":\n",
    "    Bt(auto=False).addstrategy(owen).run(isplot=True,isreport=True,  report_cwd=\"./test\", report_name=\"test\")\n"
   ]
  },
  {
   "cell_type": "code",
   "execution_count": null,
   "metadata": {},
   "outputs": [],
   "source": [
    "owen1 = owen.copy(params=dict(l1=.5, l2=.8, l3=.7, symbol=\"v2509_60\"))\n",
    "if __name__ == \"__main__\":\n",
    "    Bt(auto=False).addstrategy(owen,owen1).run(isplot=True,isreport=True,  report_cwd=\"./test\", report_name=\"test\")"
   ]
  }
 ],
 "metadata": {
  "kernelspec": {
   "display_name": "Python 3",
   "language": "python",
   "name": "python3"
  },
  "language_info": {
   "codemirror_mode": {
    "name": "ipython",
    "version": 3
   },
   "file_extension": ".py",
   "mimetype": "text/x-python",
   "name": "python",
   "nbconvert_exporter": "python",
   "pygments_lexer": "ipython3",
   "version": "3.9.13"
  },
  "orig_nbformat": 4
 },
 "nbformat": 4,
 "nbformat_minor": 2
}
